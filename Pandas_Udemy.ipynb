{
  "cells": [
    {
      "cell_type": "markdown",
      "metadata": {
        "id": "view-in-github",
        "colab_type": "text"
      },
      "source": [
        "<a href=\"https://colab.research.google.com/github/Leandro-Oak/PYTHON/blob/master/Pandas_Udemy.ipynb\" target=\"_parent\"><img src=\"https://colab.research.google.com/assets/colab-badge.svg\" alt=\"Open In Colab\"/></a>"
      ]
    },
    {
      "cell_type": "code",
      "execution_count": 10,
      "id": "c1f1b6aa",
      "metadata": {
        "id": "c1f1b6aa"
      },
      "outputs": [],
      "source": [
        "#shift + tab for more info in the function\n",
        "\n",
        "\n",
        "import os\n",
        "import pandas as pd"
      ]
    },
    {
      "cell_type": "code",
      "execution_count": null,
      "id": "9dd5f15f",
      "metadata": {
        "id": "9dd5f15f"
      },
      "outputs": [],
      "source": [
        "os.chdir('C:/Users/leand/Desktop/Udemy - Python')\n"
      ]
    },
    {
      "cell_type": "code",
      "execution_count": 11,
      "id": "828b3d4c",
      "metadata": {
        "id": "828b3d4c"
      },
      "outputs": [],
      "source": [
        "data = pd.read_csv(\"/content/Demographic.csv\")"
      ]
    },
    {
      "cell_type": "markdown",
      "id": "b33d14b2",
      "metadata": {
        "id": "b33d14b2"
      },
      "source": [
        "##Basic Info On the data"
      ]
    },
    {
      "cell_type": "code",
      "execution_count": 12,
      "id": "6c1ba75b",
      "metadata": {
        "id": "6c1ba75b",
        "outputId": "3febd1a6-ecc4-43fd-a796-aac5533f372e",
        "colab": {
          "base_uri": "https://localhost:8080/",
          "height": 363
        }
      },
      "outputs": [
        {
          "output_type": "execute_result",
          "data": {
            "text/html": [
              "\n",
              "  <div id=\"df-23eb4126-c788-4ef9-b08c-b959b8d47fd4\">\n",
              "    <div class=\"colab-df-container\">\n",
              "      <div>\n",
              "<style scoped>\n",
              "    .dataframe tbody tr th:only-of-type {\n",
              "        vertical-align: middle;\n",
              "    }\n",
              "\n",
              "    .dataframe tbody tr th {\n",
              "        vertical-align: top;\n",
              "    }\n",
              "\n",
              "    .dataframe thead th {\n",
              "        text-align: right;\n",
              "    }\n",
              "</style>\n",
              "<table border=\"1\" class=\"dataframe\">\n",
              "  <thead>\n",
              "    <tr style=\"text-align: right;\">\n",
              "      <th></th>\n",
              "      <th>Country Name</th>\n",
              "      <th>Country Code</th>\n",
              "      <th>Birth rate</th>\n",
              "      <th>Internet users</th>\n",
              "      <th>Income Group</th>\n",
              "    </tr>\n",
              "  </thead>\n",
              "  <tbody>\n",
              "    <tr>\n",
              "      <th>0</th>\n",
              "      <td>Aruba</td>\n",
              "      <td>ABW</td>\n",
              "      <td>10.244</td>\n",
              "      <td>78.9000</td>\n",
              "      <td>High income</td>\n",
              "    </tr>\n",
              "    <tr>\n",
              "      <th>1</th>\n",
              "      <td>Afghanistan</td>\n",
              "      <td>AFG</td>\n",
              "      <td>35.253</td>\n",
              "      <td>5.9000</td>\n",
              "      <td>Low income</td>\n",
              "    </tr>\n",
              "    <tr>\n",
              "      <th>2</th>\n",
              "      <td>Angola</td>\n",
              "      <td>AGO</td>\n",
              "      <td>45.985</td>\n",
              "      <td>19.1000</td>\n",
              "      <td>Upper middle income</td>\n",
              "    </tr>\n",
              "    <tr>\n",
              "      <th>3</th>\n",
              "      <td>Albania</td>\n",
              "      <td>ALB</td>\n",
              "      <td>12.877</td>\n",
              "      <td>57.2000</td>\n",
              "      <td>Upper middle income</td>\n",
              "    </tr>\n",
              "    <tr>\n",
              "      <th>4</th>\n",
              "      <td>United Arab Emirates</td>\n",
              "      <td>ARE</td>\n",
              "      <td>11.044</td>\n",
              "      <td>88.0000</td>\n",
              "      <td>High income</td>\n",
              "    </tr>\n",
              "    <tr>\n",
              "      <th>5</th>\n",
              "      <td>Argentina</td>\n",
              "      <td>ARG</td>\n",
              "      <td>17.716</td>\n",
              "      <td>59.9000</td>\n",
              "      <td>High income</td>\n",
              "    </tr>\n",
              "    <tr>\n",
              "      <th>6</th>\n",
              "      <td>Armenia</td>\n",
              "      <td>ARM</td>\n",
              "      <td>13.308</td>\n",
              "      <td>41.9000</td>\n",
              "      <td>Lower middle income</td>\n",
              "    </tr>\n",
              "    <tr>\n",
              "      <th>7</th>\n",
              "      <td>Antigua and Barbuda</td>\n",
              "      <td>ATG</td>\n",
              "      <td>16.447</td>\n",
              "      <td>63.4000</td>\n",
              "      <td>High income</td>\n",
              "    </tr>\n",
              "    <tr>\n",
              "      <th>8</th>\n",
              "      <td>Australia</td>\n",
              "      <td>AUS</td>\n",
              "      <td>13.200</td>\n",
              "      <td>83.0000</td>\n",
              "      <td>High income</td>\n",
              "    </tr>\n",
              "    <tr>\n",
              "      <th>9</th>\n",
              "      <td>Austria</td>\n",
              "      <td>AUT</td>\n",
              "      <td>9.400</td>\n",
              "      <td>80.6188</td>\n",
              "      <td>High income</td>\n",
              "    </tr>\n",
              "  </tbody>\n",
              "</table>\n",
              "</div>\n",
              "      <button class=\"colab-df-convert\" onclick=\"convertToInteractive('df-23eb4126-c788-4ef9-b08c-b959b8d47fd4')\"\n",
              "              title=\"Convert this dataframe to an interactive table.\"\n",
              "              style=\"display:none;\">\n",
              "        \n",
              "  <svg xmlns=\"http://www.w3.org/2000/svg\" height=\"24px\"viewBox=\"0 0 24 24\"\n",
              "       width=\"24px\">\n",
              "    <path d=\"M0 0h24v24H0V0z\" fill=\"none\"/>\n",
              "    <path d=\"M18.56 5.44l.94 2.06.94-2.06 2.06-.94-2.06-.94-.94-2.06-.94 2.06-2.06.94zm-11 1L8.5 8.5l.94-2.06 2.06-.94-2.06-.94L8.5 2.5l-.94 2.06-2.06.94zm10 10l.94 2.06.94-2.06 2.06-.94-2.06-.94-.94-2.06-.94 2.06-2.06.94z\"/><path d=\"M17.41 7.96l-1.37-1.37c-.4-.4-.92-.59-1.43-.59-.52 0-1.04.2-1.43.59L10.3 9.45l-7.72 7.72c-.78.78-.78 2.05 0 2.83L4 21.41c.39.39.9.59 1.41.59.51 0 1.02-.2 1.41-.59l7.78-7.78 2.81-2.81c.8-.78.8-2.07 0-2.86zM5.41 20L4 18.59l7.72-7.72 1.47 1.35L5.41 20z\"/>\n",
              "  </svg>\n",
              "      </button>\n",
              "      \n",
              "  <style>\n",
              "    .colab-df-container {\n",
              "      display:flex;\n",
              "      flex-wrap:wrap;\n",
              "      gap: 12px;\n",
              "    }\n",
              "\n",
              "    .colab-df-convert {\n",
              "      background-color: #E8F0FE;\n",
              "      border: none;\n",
              "      border-radius: 50%;\n",
              "      cursor: pointer;\n",
              "      display: none;\n",
              "      fill: #1967D2;\n",
              "      height: 32px;\n",
              "      padding: 0 0 0 0;\n",
              "      width: 32px;\n",
              "    }\n",
              "\n",
              "    .colab-df-convert:hover {\n",
              "      background-color: #E2EBFA;\n",
              "      box-shadow: 0px 1px 2px rgba(60, 64, 67, 0.3), 0px 1px 3px 1px rgba(60, 64, 67, 0.15);\n",
              "      fill: #174EA6;\n",
              "    }\n",
              "\n",
              "    [theme=dark] .colab-df-convert {\n",
              "      background-color: #3B4455;\n",
              "      fill: #D2E3FC;\n",
              "    }\n",
              "\n",
              "    [theme=dark] .colab-df-convert:hover {\n",
              "      background-color: #434B5C;\n",
              "      box-shadow: 0px 1px 3px 1px rgba(0, 0, 0, 0.15);\n",
              "      filter: drop-shadow(0px 1px 2px rgba(0, 0, 0, 0.3));\n",
              "      fill: #FFFFFF;\n",
              "    }\n",
              "  </style>\n",
              "\n",
              "      <script>\n",
              "        const buttonEl =\n",
              "          document.querySelector('#df-23eb4126-c788-4ef9-b08c-b959b8d47fd4 button.colab-df-convert');\n",
              "        buttonEl.style.display =\n",
              "          google.colab.kernel.accessAllowed ? 'block' : 'none';\n",
              "\n",
              "        async function convertToInteractive(key) {\n",
              "          const element = document.querySelector('#df-23eb4126-c788-4ef9-b08c-b959b8d47fd4');\n",
              "          const dataTable =\n",
              "            await google.colab.kernel.invokeFunction('convertToInteractive',\n",
              "                                                     [key], {});\n",
              "          if (!dataTable) return;\n",
              "\n",
              "          const docLinkHtml = 'Like what you see? Visit the ' +\n",
              "            '<a target=\"_blank\" href=https://colab.research.google.com/notebooks/data_table.ipynb>data table notebook</a>'\n",
              "            + ' to learn more about interactive tables.';\n",
              "          element.innerHTML = '';\n",
              "          dataTable['output_type'] = 'display_data';\n",
              "          await google.colab.output.renderOutput(dataTable, element);\n",
              "          const docLink = document.createElement('div');\n",
              "          docLink.innerHTML = docLinkHtml;\n",
              "          element.appendChild(docLink);\n",
              "        }\n",
              "      </script>\n",
              "    </div>\n",
              "  </div>\n",
              "  "
            ],
            "text/plain": [
              "           Country Name Country Code  ...  Internet users         Income Group\n",
              "0                 Aruba          ABW  ...         78.9000          High income\n",
              "1           Afghanistan          AFG  ...          5.9000           Low income\n",
              "2                Angola          AGO  ...         19.1000  Upper middle income\n",
              "3               Albania          ALB  ...         57.2000  Upper middle income\n",
              "4  United Arab Emirates          ARE  ...         88.0000          High income\n",
              "5             Argentina          ARG  ...         59.9000          High income\n",
              "6               Armenia          ARM  ...         41.9000  Lower middle income\n",
              "7   Antigua and Barbuda          ATG  ...         63.4000          High income\n",
              "8             Australia          AUS  ...         83.0000          High income\n",
              "9               Austria          AUT  ...         80.6188          High income\n",
              "\n",
              "[10 rows x 5 columns]"
            ]
          },
          "metadata": {},
          "execution_count": 12
        }
      ],
      "source": [
        "data.head(10)"
      ]
    },
    {
      "cell_type": "code",
      "execution_count": null,
      "id": "612b06ca",
      "metadata": {
        "id": "612b06ca",
        "outputId": "71c6bd64-8c76-42b1-dd13-5c6a8afb5138"
      },
      "outputs": [
        {
          "data": {
            "text/html": [
              "<div>\n",
              "<style scoped>\n",
              "    .dataframe tbody tr th:only-of-type {\n",
              "        vertical-align: middle;\n",
              "    }\n",
              "\n",
              "    .dataframe tbody tr th {\n",
              "        vertical-align: top;\n",
              "    }\n",
              "\n",
              "    .dataframe thead th {\n",
              "        text-align: right;\n",
              "    }\n",
              "</style>\n",
              "<table border=\"1\" class=\"dataframe\">\n",
              "  <thead>\n",
              "    <tr style=\"text-align: right;\">\n",
              "      <th></th>\n",
              "      <th>Country Name</th>\n",
              "      <th>Country Code</th>\n",
              "      <th>Birth rate</th>\n",
              "      <th>Internet users</th>\n",
              "      <th>Income Group</th>\n",
              "    </tr>\n",
              "  </thead>\n",
              "  <tbody>\n",
              "    <tr>\n",
              "      <th>190</th>\n",
              "      <td>Yemen, Rep.</td>\n",
              "      <td>YEM</td>\n",
              "      <td>32.947</td>\n",
              "      <td>20.0</td>\n",
              "      <td>Lower middle income</td>\n",
              "    </tr>\n",
              "    <tr>\n",
              "      <th>191</th>\n",
              "      <td>South Africa</td>\n",
              "      <td>ZAF</td>\n",
              "      <td>20.850</td>\n",
              "      <td>46.5</td>\n",
              "      <td>Upper middle income</td>\n",
              "    </tr>\n",
              "    <tr>\n",
              "      <th>192</th>\n",
              "      <td>Congo, Dem. Rep.</td>\n",
              "      <td>COD</td>\n",
              "      <td>42.394</td>\n",
              "      <td>2.2</td>\n",
              "      <td>Low income</td>\n",
              "    </tr>\n",
              "    <tr>\n",
              "      <th>193</th>\n",
              "      <td>Zambia</td>\n",
              "      <td>ZMB</td>\n",
              "      <td>40.471</td>\n",
              "      <td>15.4</td>\n",
              "      <td>Lower middle income</td>\n",
              "    </tr>\n",
              "    <tr>\n",
              "      <th>194</th>\n",
              "      <td>Zimbabwe</td>\n",
              "      <td>ZWE</td>\n",
              "      <td>35.715</td>\n",
              "      <td>18.5</td>\n",
              "      <td>Low income</td>\n",
              "    </tr>\n",
              "  </tbody>\n",
              "</table>\n",
              "</div>"
            ],
            "text/plain": [
              "         Country Name Country Code  Birth rate  Internet users  \\\n",
              "190       Yemen, Rep.          YEM      32.947            20.0   \n",
              "191      South Africa          ZAF      20.850            46.5   \n",
              "192  Congo, Dem. Rep.          COD      42.394             2.2   \n",
              "193            Zambia          ZMB      40.471            15.4   \n",
              "194          Zimbabwe          ZWE      35.715            18.5   \n",
              "\n",
              "            Income Group  \n",
              "190  Lower middle income  \n",
              "191  Upper middle income  \n",
              "192           Low income  \n",
              "193  Lower middle income  \n",
              "194           Low income  "
            ]
          },
          "execution_count": 63,
          "metadata": {},
          "output_type": "execute_result"
        }
      ],
      "source": [
        "data.tail()"
      ]
    },
    {
      "cell_type": "code",
      "execution_count": null,
      "id": "4808a417",
      "metadata": {
        "id": "4808a417",
        "outputId": "e66999b5-4d88-44b0-9e36-340fad894ac3"
      },
      "outputs": [
        {
          "data": {
            "text/html": [
              "<div>\n",
              "<style scoped>\n",
              "    .dataframe tbody tr th:only-of-type {\n",
              "        vertical-align: middle;\n",
              "    }\n",
              "\n",
              "    .dataframe tbody tr th {\n",
              "        vertical-align: top;\n",
              "    }\n",
              "\n",
              "    .dataframe thead th {\n",
              "        text-align: right;\n",
              "    }\n",
              "</style>\n",
              "<table border=\"1\" class=\"dataframe\">\n",
              "  <thead>\n",
              "    <tr style=\"text-align: right;\">\n",
              "      <th></th>\n",
              "      <th>Birth rate</th>\n",
              "      <th>Internet users</th>\n",
              "    </tr>\n",
              "  </thead>\n",
              "  <tbody>\n",
              "    <tr>\n",
              "      <th>count</th>\n",
              "      <td>195.000000</td>\n",
              "      <td>195.000000</td>\n",
              "    </tr>\n",
              "    <tr>\n",
              "      <th>mean</th>\n",
              "      <td>21.469928</td>\n",
              "      <td>42.076471</td>\n",
              "    </tr>\n",
              "    <tr>\n",
              "      <th>std</th>\n",
              "      <td>10.605467</td>\n",
              "      <td>29.030788</td>\n",
              "    </tr>\n",
              "    <tr>\n",
              "      <th>min</th>\n",
              "      <td>7.900000</td>\n",
              "      <td>0.900000</td>\n",
              "    </tr>\n",
              "    <tr>\n",
              "      <th>25%</th>\n",
              "      <td>12.120500</td>\n",
              "      <td>14.520000</td>\n",
              "    </tr>\n",
              "    <tr>\n",
              "      <th>50%</th>\n",
              "      <td>19.680000</td>\n",
              "      <td>41.000000</td>\n",
              "    </tr>\n",
              "    <tr>\n",
              "      <th>75%</th>\n",
              "      <td>29.759500</td>\n",
              "      <td>66.225000</td>\n",
              "    </tr>\n",
              "    <tr>\n",
              "      <th>max</th>\n",
              "      <td>49.661000</td>\n",
              "      <td>96.546800</td>\n",
              "    </tr>\n",
              "  </tbody>\n",
              "</table>\n",
              "</div>"
            ],
            "text/plain": [
              "       Birth rate  Internet users\n",
              "count  195.000000      195.000000\n",
              "mean    21.469928       42.076471\n",
              "std     10.605467       29.030788\n",
              "min      7.900000        0.900000\n",
              "25%     12.120500       14.520000\n",
              "50%     19.680000       41.000000\n",
              "75%     29.759500       66.225000\n",
              "max     49.661000       96.546800"
            ]
          },
          "execution_count": 35,
          "metadata": {},
          "output_type": "execute_result"
        }
      ],
      "source": [
        "data.describe()"
      ]
    },
    {
      "cell_type": "code",
      "execution_count": null,
      "id": "e7210d6d",
      "metadata": {
        "id": "e7210d6d",
        "outputId": "d0d02443-1568-4d08-ebbe-93878e445242"
      },
      "outputs": [
        {
          "name": "stdout",
          "output_type": "stream",
          "text": [
            "<class 'pandas.core.frame.DataFrame'>\n",
            "RangeIndex: 195 entries, 0 to 194\n",
            "Data columns (total 5 columns):\n",
            " #   Column          Non-Null Count  Dtype  \n",
            "---  ------          --------------  -----  \n",
            " 0   Country Name    195 non-null    object \n",
            " 1   Country Code    195 non-null    object \n",
            " 2   Birth rate      195 non-null    float64\n",
            " 3   Internet users  195 non-null    float64\n",
            " 4   Income Group    195 non-null    object \n",
            "dtypes: float64(2), object(3)\n",
            "memory usage: 7.7+ KB\n"
          ]
        }
      ],
      "source": [
        "data.info()"
      ]
    },
    {
      "cell_type": "code",
      "execution_count": null,
      "id": "f9b719a3",
      "metadata": {
        "id": "f9b719a3",
        "outputId": "056d8cb6-5319-46ea-e162-0bd4196bc4c4"
      },
      "outputs": [
        {
          "data": {
            "text/plain": [
              "(195, 5)"
            ]
          },
          "execution_count": 50,
          "metadata": {},
          "output_type": "execute_result"
        }
      ],
      "source": [
        "data.shape"
      ]
    },
    {
      "cell_type": "code",
      "execution_count": null,
      "id": "6da21970",
      "metadata": {
        "id": "6da21970",
        "outputId": "5b098241-87a3-4cad-b67a-e3c3acf6c4fe"
      },
      "outputs": [
        {
          "data": {
            "text/plain": [
              "Country Name       object\n",
              "Country Code       object\n",
              "Birth rate        float64\n",
              "Internet users    float64\n",
              "Income Group       object\n",
              "dtype: object"
            ]
          },
          "execution_count": 56,
          "metadata": {},
          "output_type": "execute_result"
        }
      ],
      "source": [
        "data.dtypes"
      ]
    },
    {
      "cell_type": "code",
      "execution_count": null,
      "id": "2b76f949",
      "metadata": {
        "id": "2b76f949",
        "outputId": "b14bef83-f7a0-4c5e-b259-870ea54d93a1"
      },
      "outputs": [
        {
          "data": {
            "text/plain": [
              "195"
            ]
          },
          "execution_count": 57,
          "metadata": {},
          "output_type": "execute_result"
        }
      ],
      "source": [
        "len(data)"
      ]
    },
    {
      "cell_type": "code",
      "execution_count": null,
      "id": "cecdcc54",
      "metadata": {
        "id": "cecdcc54",
        "outputId": "7563a870-fd9a-4b64-a4f1-8ae6375f4f3a"
      },
      "outputs": [
        {
          "data": {
            "text/plain": [
              "Index(['Country Name', 'Country Code', 'Birth rate', 'Internet users',\n",
              "       'Income Group'],\n",
              "      dtype='object')"
            ]
          },
          "execution_count": 60,
          "metadata": {},
          "output_type": "execute_result"
        }
      ],
      "source": [
        "data.columns"
      ]
    },
    {
      "cell_type": "markdown",
      "id": "cc526a05",
      "metadata": {
        "id": "cc526a05"
      },
      "source": [
        "##Filtering"
      ]
    },
    {
      "cell_type": "code",
      "execution_count": null,
      "id": "144cf715",
      "metadata": {
        "id": "144cf715"
      },
      "outputs": [],
      "source": [
        "data[(data['Birth rate']<= 49.661) & (data['Country Name'])]"
      ]
    },
    {
      "cell_type": "code",
      "execution_count": null,
      "id": "b7402e89",
      "metadata": {
        "id": "b7402e89",
        "outputId": "cc1da820-a51a-4a72-8451-0510eabcdb46"
      },
      "outputs": [
        {
          "data": {
            "text/plain": [
              "0      False\n",
              "1      False\n",
              "2      False\n",
              "3      False\n",
              "4      False\n",
              "       ...  \n",
              "190    False\n",
              "191    False\n",
              "192    False\n",
              "193    False\n",
              "194    False\n",
              "Name: InternetUsers, Length: 195, dtype: bool"
            ]
          },
          "execution_count": 101,
          "metadata": {},
          "output_type": "execute_result"
        }
      ],
      "source": [
        "#Generate a boolean series\n",
        "#that happens because Python is not vetorized language like R\n",
        "data.InternetUsers<2"
      ]
    },
    {
      "cell_type": "code",
      "execution_count": null,
      "id": "2815c24f",
      "metadata": {
        "id": "2815c24f",
        "outputId": "72f2319d-eefd-47ed-d3ad-dba666d6df29"
      },
      "outputs": [
        {
          "data": {
            "text/html": [
              "<div>\n",
              "<style scoped>\n",
              "    .dataframe tbody tr th:only-of-type {\n",
              "        vertical-align: middle;\n",
              "    }\n",
              "\n",
              "    .dataframe tbody tr th {\n",
              "        vertical-align: top;\n",
              "    }\n",
              "\n",
              "    .dataframe thead th {\n",
              "        text-align: right;\n",
              "    }\n",
              "</style>\n",
              "<table border=\"1\" class=\"dataframe\">\n",
              "  <thead>\n",
              "    <tr style=\"text-align: right;\">\n",
              "      <th></th>\n",
              "      <th>CountryName</th>\n",
              "      <th>CountryCode</th>\n",
              "      <th>BirthRate</th>\n",
              "      <th>InternetUsers</th>\n",
              "      <th>IncomeGroup</th>\n",
              "    </tr>\n",
              "  </thead>\n",
              "  <tbody>\n",
              "    <tr>\n",
              "      <th>11</th>\n",
              "      <td>Burundi</td>\n",
              "      <td>BDI</td>\n",
              "      <td>44.151</td>\n",
              "      <td>1.3</td>\n",
              "      <td>Low income</td>\n",
              "    </tr>\n",
              "    <tr>\n",
              "      <th>52</th>\n",
              "      <td>Eritrea</td>\n",
              "      <td>ERI</td>\n",
              "      <td>34.800</td>\n",
              "      <td>0.9</td>\n",
              "      <td>Low income</td>\n",
              "    </tr>\n",
              "    <tr>\n",
              "      <th>55</th>\n",
              "      <td>Ethiopia</td>\n",
              "      <td>ETH</td>\n",
              "      <td>32.925</td>\n",
              "      <td>1.9</td>\n",
              "      <td>Low income</td>\n",
              "    </tr>\n",
              "    <tr>\n",
              "      <th>64</th>\n",
              "      <td>Guinea</td>\n",
              "      <td>GIN</td>\n",
              "      <td>37.337</td>\n",
              "      <td>1.6</td>\n",
              "      <td>Low income</td>\n",
              "    </tr>\n",
              "    <tr>\n",
              "      <th>117</th>\n",
              "      <td>Myanmar</td>\n",
              "      <td>MMR</td>\n",
              "      <td>18.119</td>\n",
              "      <td>1.6</td>\n",
              "      <td>Lower middle income</td>\n",
              "    </tr>\n",
              "    <tr>\n",
              "      <th>127</th>\n",
              "      <td>Niger</td>\n",
              "      <td>NER</td>\n",
              "      <td>49.661</td>\n",
              "      <td>1.7</td>\n",
              "      <td>Low income</td>\n",
              "    </tr>\n",
              "    <tr>\n",
              "      <th>154</th>\n",
              "      <td>Sierra Leone</td>\n",
              "      <td>SLE</td>\n",
              "      <td>36.729</td>\n",
              "      <td>1.7</td>\n",
              "      <td>Low income</td>\n",
              "    </tr>\n",
              "    <tr>\n",
              "      <th>156</th>\n",
              "      <td>Somalia</td>\n",
              "      <td>SOM</td>\n",
              "      <td>43.891</td>\n",
              "      <td>1.5</td>\n",
              "      <td>Low income</td>\n",
              "    </tr>\n",
              "    <tr>\n",
              "      <th>172</th>\n",
              "      <td>Timor-Leste</td>\n",
              "      <td>TLS</td>\n",
              "      <td>35.755</td>\n",
              "      <td>1.1</td>\n",
              "      <td>Lower middle income</td>\n",
              "    </tr>\n",
              "  </tbody>\n",
              "</table>\n",
              "</div>"
            ],
            "text/plain": [
              "      CountryName CountryCode  BirthRate  InternetUsers          IncomeGroup\n",
              "11        Burundi         BDI     44.151            1.3           Low income\n",
              "52        Eritrea         ERI     34.800            0.9           Low income\n",
              "55       Ethiopia         ETH     32.925            1.9           Low income\n",
              "64         Guinea         GIN     37.337            1.6           Low income\n",
              "117       Myanmar         MMR     18.119            1.6  Lower middle income\n",
              "127         Niger         NER     49.661            1.7           Low income\n",
              "154  Sierra Leone         SLE     36.729            1.7           Low income\n",
              "156       Somalia         SOM     43.891            1.5           Low income\n",
              "172   Timor-Leste         TLS     35.755            1.1  Lower middle income"
            ]
          },
          "execution_count": 105,
          "metadata": {},
          "output_type": "execute_result"
        }
      ],
      "source": [
        "filter = (data.InternetUsers<2)\n",
        "data[filter] #or\n",
        "data[(data.InternetUsers<2)]"
      ]
    },
    {
      "cell_type": "code",
      "execution_count": null,
      "id": "a60a2f5f",
      "metadata": {
        "id": "a60a2f5f",
        "outputId": "a4fe834b-e5dc-49e9-dda7-f5eec55191a7"
      },
      "outputs": [
        {
          "data": {
            "text/html": [
              "<div>\n",
              "<style scoped>\n",
              "    .dataframe tbody tr th:only-of-type {\n",
              "        vertical-align: middle;\n",
              "    }\n",
              "\n",
              "    .dataframe tbody tr th {\n",
              "        vertical-align: top;\n",
              "    }\n",
              "\n",
              "    .dataframe thead th {\n",
              "        text-align: right;\n",
              "    }\n",
              "</style>\n",
              "<table border=\"1\" class=\"dataframe\">\n",
              "  <thead>\n",
              "    <tr style=\"text-align: right;\">\n",
              "      <th></th>\n",
              "      <th>CountryName</th>\n",
              "      <th>CountryCode</th>\n",
              "      <th>BirthRate</th>\n",
              "      <th>InternetUsers</th>\n",
              "      <th>IncomeGroup</th>\n",
              "    </tr>\n",
              "  </thead>\n",
              "  <tbody>\n",
              "    <tr>\n",
              "      <th>11</th>\n",
              "      <td>Burundi</td>\n",
              "      <td>BDI</td>\n",
              "      <td>44.151</td>\n",
              "      <td>1.3</td>\n",
              "      <td>Low income</td>\n",
              "    </tr>\n",
              "    <tr>\n",
              "      <th>52</th>\n",
              "      <td>Eritrea</td>\n",
              "      <td>ERI</td>\n",
              "      <td>34.800</td>\n",
              "      <td>0.9</td>\n",
              "      <td>Low income</td>\n",
              "    </tr>\n",
              "    <tr>\n",
              "      <th>55</th>\n",
              "      <td>Ethiopia</td>\n",
              "      <td>ETH</td>\n",
              "      <td>32.925</td>\n",
              "      <td>1.9</td>\n",
              "      <td>Low income</td>\n",
              "    </tr>\n",
              "    <tr>\n",
              "      <th>64</th>\n",
              "      <td>Guinea</td>\n",
              "      <td>GIN</td>\n",
              "      <td>37.337</td>\n",
              "      <td>1.6</td>\n",
              "      <td>Low income</td>\n",
              "    </tr>\n",
              "    <tr>\n",
              "      <th>127</th>\n",
              "      <td>Niger</td>\n",
              "      <td>NER</td>\n",
              "      <td>49.661</td>\n",
              "      <td>1.7</td>\n",
              "      <td>Low income</td>\n",
              "    </tr>\n",
              "    <tr>\n",
              "      <th>154</th>\n",
              "      <td>Sierra Leone</td>\n",
              "      <td>SLE</td>\n",
              "      <td>36.729</td>\n",
              "      <td>1.7</td>\n",
              "      <td>Low income</td>\n",
              "    </tr>\n",
              "    <tr>\n",
              "      <th>156</th>\n",
              "      <td>Somalia</td>\n",
              "      <td>SOM</td>\n",
              "      <td>43.891</td>\n",
              "      <td>1.5</td>\n",
              "      <td>Low income</td>\n",
              "    </tr>\n",
              "    <tr>\n",
              "      <th>172</th>\n",
              "      <td>Timor-Leste</td>\n",
              "      <td>TLS</td>\n",
              "      <td>35.755</td>\n",
              "      <td>1.1</td>\n",
              "      <td>Lower middle income</td>\n",
              "    </tr>\n",
              "  </tbody>\n",
              "</table>\n",
              "</div>"
            ],
            "text/plain": [
              "      CountryName CountryCode  BirthRate  InternetUsers          IncomeGroup\n",
              "11        Burundi         BDI     44.151            1.3           Low income\n",
              "52        Eritrea         ERI     34.800            0.9           Low income\n",
              "55       Ethiopia         ETH     32.925            1.9           Low income\n",
              "64         Guinea         GIN     37.337            1.6           Low income\n",
              "127         Niger         NER     49.661            1.7           Low income\n",
              "154  Sierra Leone         SLE     36.729            1.7           Low income\n",
              "156       Somalia         SOM     43.891            1.5           Low income\n",
              "172   Timor-Leste         TLS     35.755            1.1  Lower middle income"
            ]
          },
          "execution_count": 107,
          "metadata": {},
          "output_type": "execute_result"
        }
      ],
      "source": [
        "data[(data.InternetUsers<2) & (data.BirthRate>30)]"
      ]
    },
    {
      "cell_type": "markdown",
      "id": "0c732112",
      "metadata": {
        "id": "0c732112"
      },
      "source": [
        "##Sorting"
      ]
    },
    {
      "cell_type": "code",
      "execution_count": null,
      "id": "771ffbf2",
      "metadata": {
        "id": "771ffbf2",
        "outputId": "acf55442-8448-456d-b554-44219a9948c2"
      },
      "outputs": [
        {
          "data": {
            "text/html": [
              "<div>\n",
              "<style scoped>\n",
              "    .dataframe tbody tr th:only-of-type {\n",
              "        vertical-align: middle;\n",
              "    }\n",
              "\n",
              "    .dataframe tbody tr th {\n",
              "        vertical-align: top;\n",
              "    }\n",
              "\n",
              "    .dataframe thead th {\n",
              "        text-align: right;\n",
              "    }\n",
              "</style>\n",
              "<table border=\"1\" class=\"dataframe\">\n",
              "  <thead>\n",
              "    <tr style=\"text-align: right;\">\n",
              "      <th></th>\n",
              "      <th>Country Name</th>\n",
              "      <th>Country Code</th>\n",
              "      <th>Birth rate</th>\n",
              "      <th>Internet users</th>\n",
              "      <th>Income Group</th>\n",
              "    </tr>\n",
              "  </thead>\n",
              "  <tbody>\n",
              "    <tr>\n",
              "      <th>142</th>\n",
              "      <td>Portugal</td>\n",
              "      <td>PRT</td>\n",
              "      <td>7.900</td>\n",
              "      <td>62.0956</td>\n",
              "      <td>High income</td>\n",
              "    </tr>\n",
              "    <tr>\n",
              "      <th>74</th>\n",
              "      <td>Hong Kong SAR, China</td>\n",
              "      <td>HKG</td>\n",
              "      <td>7.900</td>\n",
              "      <td>74.2000</td>\n",
              "      <td>High income</td>\n",
              "    </tr>\n",
              "    <tr>\n",
              "      <th>89</th>\n",
              "      <td>Japan</td>\n",
              "      <td>JPN</td>\n",
              "      <td>8.200</td>\n",
              "      <td>89.7100</td>\n",
              "      <td>High income</td>\n",
              "    </tr>\n",
              "    <tr>\n",
              "      <th>68</th>\n",
              "      <td>Greece</td>\n",
              "      <td>GRC</td>\n",
              "      <td>8.500</td>\n",
              "      <td>59.8663</td>\n",
              "      <td>High income</td>\n",
              "    </tr>\n",
              "    <tr>\n",
              "      <th>45</th>\n",
              "      <td>Germany</td>\n",
              "      <td>DEU</td>\n",
              "      <td>8.500</td>\n",
              "      <td>84.1700</td>\n",
              "      <td>High income</td>\n",
              "    </tr>\n",
              "    <tr>\n",
              "      <th>...</th>\n",
              "      <td>...</td>\n",
              "      <td>...</td>\n",
              "      <td>...</td>\n",
              "      <td>...</td>\n",
              "      <td>...</td>\n",
              "    </tr>\n",
              "    <tr>\n",
              "      <th>115</th>\n",
              "      <td>Mali</td>\n",
              "      <td>MLI</td>\n",
              "      <td>44.138</td>\n",
              "      <td>3.5000</td>\n",
              "      <td>Low income</td>\n",
              "    </tr>\n",
              "    <tr>\n",
              "      <th>11</th>\n",
              "      <td>Burundi</td>\n",
              "      <td>BDI</td>\n",
              "      <td>44.151</td>\n",
              "      <td>1.3000</td>\n",
              "      <td>Low income</td>\n",
              "    </tr>\n",
              "    <tr>\n",
              "      <th>167</th>\n",
              "      <td>Chad</td>\n",
              "      <td>TCD</td>\n",
              "      <td>45.745</td>\n",
              "      <td>2.3000</td>\n",
              "      <td>Low income</td>\n",
              "    </tr>\n",
              "    <tr>\n",
              "      <th>2</th>\n",
              "      <td>Angola</td>\n",
              "      <td>AGO</td>\n",
              "      <td>45.985</td>\n",
              "      <td>19.1000</td>\n",
              "      <td>Upper middle income</td>\n",
              "    </tr>\n",
              "    <tr>\n",
              "      <th>127</th>\n",
              "      <td>Niger</td>\n",
              "      <td>NER</td>\n",
              "      <td>49.661</td>\n",
              "      <td>1.7000</td>\n",
              "      <td>Low income</td>\n",
              "    </tr>\n",
              "  </tbody>\n",
              "</table>\n",
              "<p>195 rows × 5 columns</p>\n",
              "</div>"
            ],
            "text/plain": [
              "             Country Name Country Code  Birth rate  Internet users  \\\n",
              "142              Portugal          PRT       7.900         62.0956   \n",
              "74   Hong Kong SAR, China          HKG       7.900         74.2000   \n",
              "89                  Japan          JPN       8.200         89.7100   \n",
              "68                 Greece          GRC       8.500         59.8663   \n",
              "45                Germany          DEU       8.500         84.1700   \n",
              "..                    ...          ...         ...             ...   \n",
              "115                  Mali          MLI      44.138          3.5000   \n",
              "11                Burundi          BDI      44.151          1.3000   \n",
              "167                  Chad          TCD      45.745          2.3000   \n",
              "2                  Angola          AGO      45.985         19.1000   \n",
              "127                 Niger          NER      49.661          1.7000   \n",
              "\n",
              "            Income Group  \n",
              "142          High income  \n",
              "74           High income  \n",
              "89           High income  \n",
              "68           High income  \n",
              "45           High income  \n",
              "..                   ...  \n",
              "115           Low income  \n",
              "11            Low income  \n",
              "167           Low income  \n",
              "2    Upper middle income  \n",
              "127           Low income  \n",
              "\n",
              "[195 rows x 5 columns]"
            ]
          },
          "execution_count": 47,
          "metadata": {},
          "output_type": "execute_result"
        }
      ],
      "source": [
        "data.sort_values('Birth rate')"
      ]
    },
    {
      "cell_type": "markdown",
      "id": "19fd8326",
      "metadata": {
        "id": "19fd8326"
      },
      "source": [
        "##Grouping"
      ]
    },
    {
      "cell_type": "code",
      "execution_count": null,
      "id": "433e9ba6",
      "metadata": {
        "id": "433e9ba6",
        "outputId": "ca830a46-b32d-441f-9e6a-faa20fabc503"
      },
      "outputs": [
        {
          "data": {
            "text/plain": [
              "Income Group\n",
              "High income            67\n",
              "Low income             30\n",
              "Lower middle income    50\n",
              "Upper middle income    48\n",
              "Name: Country Name, dtype: int64"
            ]
          },
          "execution_count": 37,
          "metadata": {},
          "output_type": "execute_result"
        }
      ],
      "source": [
        "data.groupby(\"Income Group\")[\"Country Name\"].count()"
      ]
    },
    {
      "cell_type": "markdown",
      "id": "216efc3a",
      "metadata": {
        "id": "216efc3a"
      },
      "source": [
        "##Unique Values"
      ]
    },
    {
      "cell_type": "code",
      "execution_count": null,
      "id": "89f46ed0",
      "metadata": {
        "id": "89f46ed0",
        "outputId": "3517e528-b587-4310-a264-fef5b495c596"
      },
      "outputs": [
        {
          "data": {
            "text/plain": [
              "array(['High income', 'Low income', 'Upper middle income',\n",
              "       'Lower middle income'], dtype=object)"
            ]
          },
          "execution_count": 108,
          "metadata": {},
          "output_type": "execute_result"
        }
      ],
      "source": [
        "data.IncomeGroup.unique()"
      ]
    },
    {
      "cell_type": "markdown",
      "id": "1189ec90",
      "metadata": {
        "id": "1189ec90"
      },
      "source": [
        "##Checking for Nulls"
      ]
    },
    {
      "cell_type": "code",
      "execution_count": null,
      "id": "735afc6d",
      "metadata": {
        "id": "735afc6d",
        "outputId": "3f02356f-7cea-41d4-a693-fef9c01be8a0"
      },
      "outputs": [
        {
          "data": {
            "text/plain": [
              "Country Name      0\n",
              "Country Code      0\n",
              "Birth rate        0\n",
              "Internet users    0\n",
              "Income Group      0\n",
              "dtype: int64"
            ]
          },
          "execution_count": 39,
          "metadata": {},
          "output_type": "execute_result"
        }
      ],
      "source": [
        "data.isnull().sum()"
      ]
    },
    {
      "cell_type": "markdown",
      "id": "4fe70ba2",
      "metadata": {
        "id": "4fe70ba2"
      },
      "source": [
        "##Replacing Missing values"
      ]
    },
    {
      "cell_type": "code",
      "execution_count": null,
      "id": "e80f60a6",
      "metadata": {
        "id": "e80f60a6"
      },
      "outputs": [],
      "source": [
        "data.fillna(0)"
      ]
    },
    {
      "cell_type": "markdown",
      "id": "e1a52d3e",
      "metadata": {
        "id": "e1a52d3e"
      },
      "source": [
        "##Slicing - Subsetting data"
      ]
    },
    {
      "cell_type": "code",
      "execution_count": null,
      "id": "446255a0",
      "metadata": {
        "id": "446255a0",
        "outputId": "bc1c8f44-9adb-4987-a4e3-7eba0afa1c93"
      },
      "outputs": [
        {
          "data": {
            "text/html": [
              "<div>\n",
              "<style scoped>\n",
              "    .dataframe tbody tr th:only-of-type {\n",
              "        vertical-align: middle;\n",
              "    }\n",
              "\n",
              "    .dataframe tbody tr th {\n",
              "        vertical-align: top;\n",
              "    }\n",
              "\n",
              "    .dataframe thead th {\n",
              "        text-align: right;\n",
              "    }\n",
              "</style>\n",
              "<table border=\"1\" class=\"dataframe\">\n",
              "  <thead>\n",
              "    <tr style=\"text-align: right;\">\n",
              "      <th></th>\n",
              "      <th>CountryName</th>\n",
              "      <th>CountryCode</th>\n",
              "      <th>BirthRate</th>\n",
              "      <th>InternetUsers</th>\n",
              "      <th>IncomeGroup</th>\n",
              "    </tr>\n",
              "  </thead>\n",
              "  <tbody>\n",
              "    <tr>\n",
              "      <th>1</th>\n",
              "      <td>Afghanistan</td>\n",
              "      <td>AFG</td>\n",
              "      <td>35.253</td>\n",
              "      <td>5.9000</td>\n",
              "      <td>Low income</td>\n",
              "    </tr>\n",
              "    <tr>\n",
              "      <th>3</th>\n",
              "      <td>Albania</td>\n",
              "      <td>ALB</td>\n",
              "      <td>12.877</td>\n",
              "      <td>57.2000</td>\n",
              "      <td>Upper middle income</td>\n",
              "    </tr>\n",
              "    <tr>\n",
              "      <th>5</th>\n",
              "      <td>Argentina</td>\n",
              "      <td>ARG</td>\n",
              "      <td>17.716</td>\n",
              "      <td>59.9000</td>\n",
              "      <td>High income</td>\n",
              "    </tr>\n",
              "    <tr>\n",
              "      <th>7</th>\n",
              "      <td>Antigua and Barbuda</td>\n",
              "      <td>ATG</td>\n",
              "      <td>16.447</td>\n",
              "      <td>63.4000</td>\n",
              "      <td>High income</td>\n",
              "    </tr>\n",
              "    <tr>\n",
              "      <th>9</th>\n",
              "      <td>Austria</td>\n",
              "      <td>AUT</td>\n",
              "      <td>9.400</td>\n",
              "      <td>80.6188</td>\n",
              "      <td>High income</td>\n",
              "    </tr>\n",
              "  </tbody>\n",
              "</table>\n",
              "</div>"
            ],
            "text/plain": [
              "           CountryName CountryCode  BirthRate  InternetUsers  \\\n",
              "1          Afghanistan         AFG     35.253         5.9000   \n",
              "3              Albania         ALB     12.877        57.2000   \n",
              "5            Argentina         ARG     17.716        59.9000   \n",
              "7  Antigua and Barbuda         ATG     16.447        63.4000   \n",
              "9              Austria         AUT      9.400        80.6188   \n",
              "\n",
              "           IncomeGroup  \n",
              "1           Low income  \n",
              "3  Upper middle income  \n",
              "5          High income  \n",
              "7          High income  \n",
              "9          High income  "
            ]
          },
          "execution_count": 72,
          "metadata": {},
          "output_type": "execute_result"
        }
      ],
      "source": [
        "#Subsetting by Rows\n",
        "\n",
        "#Subsetting by rows it doent count the last number\n",
        "\n",
        "data[21:26]\n",
        "data[::-1]# reverting rows\n",
        "data[1:10:2]#every 2 numbers"
      ]
    },
    {
      "cell_type": "code",
      "execution_count": null,
      "id": "10e148f7",
      "metadata": {
        "id": "10e148f7",
        "outputId": "2dc9466f-5fe8-4def-e820-cfa534ac8512"
      },
      "outputs": [
        {
          "data": {
            "text/plain": [
              "0                   Aruba\n",
              "1             Afghanistan\n",
              "2                  Angola\n",
              "3                 Albania\n",
              "4    United Arab Emirates\n",
              "Name: CountryName, dtype: object"
            ]
          },
          "execution_count": 77,
          "metadata": {},
          "output_type": "execute_result"
        }
      ],
      "source": [
        "#Subsetting by Columns\n",
        "\n",
        "data[['CountryName', 'BirthRate']].head(5) #When there are more than one columns is a list and you need to put 2 square braquets\n",
        "data.CountryName.head()#Another simple way\n"
      ]
    },
    {
      "cell_type": "code",
      "execution_count": null,
      "id": "19a21337",
      "metadata": {
        "id": "19a21337",
        "outputId": "1e1c1591-9d05-40c4-a657-a66ff5adccda"
      },
      "outputs": [
        {
          "data": {
            "text/html": [
              "<div>\n",
              "<style scoped>\n",
              "    .dataframe tbody tr th:only-of-type {\n",
              "        vertical-align: middle;\n",
              "    }\n",
              "\n",
              "    .dataframe tbody tr th {\n",
              "        vertical-align: top;\n",
              "    }\n",
              "\n",
              "    .dataframe thead th {\n",
              "        text-align: right;\n",
              "    }\n",
              "</style>\n",
              "<table border=\"1\" class=\"dataframe\">\n",
              "  <thead>\n",
              "    <tr style=\"text-align: right;\">\n",
              "      <th></th>\n",
              "      <th>CountryName</th>\n",
              "      <th>BirthRate</th>\n",
              "    </tr>\n",
              "  </thead>\n",
              "  <tbody>\n",
              "    <tr>\n",
              "      <th>4</th>\n",
              "      <td>United Arab Emirates</td>\n",
              "      <td>11.044</td>\n",
              "    </tr>\n",
              "    <tr>\n",
              "      <th>5</th>\n",
              "      <td>Argentina</td>\n",
              "      <td>17.716</td>\n",
              "    </tr>\n",
              "    <tr>\n",
              "      <th>6</th>\n",
              "      <td>Armenia</td>\n",
              "      <td>13.308</td>\n",
              "    </tr>\n",
              "    <tr>\n",
              "      <th>7</th>\n",
              "      <td>Antigua and Barbuda</td>\n",
              "      <td>16.447</td>\n",
              "    </tr>\n",
              "  </tbody>\n",
              "</table>\n",
              "</div>"
            ],
            "text/plain": [
              "            CountryName  BirthRate\n",
              "4  United Arab Emirates     11.044\n",
              "5             Argentina     17.716\n",
              "6               Armenia     13.308\n",
              "7   Antigua and Barbuda     16.447"
            ]
          },
          "execution_count": 79,
          "metadata": {},
          "output_type": "execute_result"
        }
      ],
      "source": [
        "#Subsetting by Rows and columns\n",
        "\n",
        "data[['CountryName', 'BirthRate']][4:8]"
      ]
    },
    {
      "cell_type": "code",
      "execution_count": null,
      "id": "08ec5732",
      "metadata": {
        "id": "08ec5732",
        "outputId": "8ff0d420-db66-401f-edb2-f02c7c47feb4"
      },
      "outputs": [
        {
          "data": {
            "text/html": [
              "<div>\n",
              "<style scoped>\n",
              "    .dataframe tbody tr th:only-of-type {\n",
              "        vertical-align: middle;\n",
              "    }\n",
              "\n",
              "    .dataframe tbody tr th {\n",
              "        vertical-align: top;\n",
              "    }\n",
              "\n",
              "    .dataframe thead th {\n",
              "        text-align: right;\n",
              "    }\n",
              "</style>\n",
              "<table border=\"1\" class=\"dataframe\">\n",
              "  <thead>\n",
              "    <tr style=\"text-align: right;\">\n",
              "      <th></th>\n",
              "      <th>CountryCode</th>\n",
              "      <th>InternetUsers</th>\n",
              "    </tr>\n",
              "  </thead>\n",
              "  <tbody>\n",
              "    <tr>\n",
              "      <th>1</th>\n",
              "      <td>AFG</td>\n",
              "      <td>5.9</td>\n",
              "    </tr>\n",
              "    <tr>\n",
              "      <th>5</th>\n",
              "      <td>ARG</td>\n",
              "      <td>59.9</td>\n",
              "    </tr>\n",
              "  </tbody>\n",
              "</table>\n",
              "</div>"
            ],
            "text/plain": [
              "  CountryCode  InternetUsers\n",
              "1         AFG            5.9\n",
              "5         ARG           59.9"
            ]
          },
          "execution_count": 131,
          "metadata": {},
          "output_type": "execute_result"
        }
      ],
      "source": [
        "#Using ILOC\n",
        "\n",
        "data.iloc[[1,5],[1,3]]"
      ]
    },
    {
      "cell_type": "markdown",
      "id": "41c3d624",
      "metadata": {
        "id": "41c3d624"
      },
      "source": [
        "##Adding Columns and Mathematical operations"
      ]
    },
    {
      "cell_type": "code",
      "execution_count": null,
      "id": "173c4456",
      "metadata": {
        "id": "173c4456",
        "outputId": "48101728-813d-4464-ed30-905d94fba5fe"
      },
      "outputs": [
        {
          "data": {
            "text/plain": [
              "0      808.2516\n",
              "1      207.9927\n",
              "2      878.3135\n",
              "3      736.5644\n",
              "4      971.8720\n",
              "         ...   \n",
              "190    658.9400\n",
              "191    969.5250\n",
              "192     93.2668\n",
              "193    623.2534\n",
              "194    660.7275\n",
              "Length: 195, dtype: float64"
            ]
          },
          "execution_count": 82,
          "metadata": {},
          "output_type": "execute_result"
        }
      ],
      "source": [
        "#Mathematical Operations\n",
        "\n",
        "\n",
        "#Same works for / + - and others\n",
        "result = data.BirthRate * data.InternetUsers\n",
        "result"
      ]
    },
    {
      "cell_type": "code",
      "execution_count": null,
      "id": "28190bfc",
      "metadata": {
        "id": "28190bfc",
        "outputId": "4d71220a-8c93-43c3-af12-d61566090840"
      },
      "outputs": [
        {
          "data": {
            "text/html": [
              "<div>\n",
              "<style scoped>\n",
              "    .dataframe tbody tr th:only-of-type {\n",
              "        vertical-align: middle;\n",
              "    }\n",
              "\n",
              "    .dataframe tbody tr th {\n",
              "        vertical-align: top;\n",
              "    }\n",
              "\n",
              "    .dataframe thead th {\n",
              "        text-align: right;\n",
              "    }\n",
              "</style>\n",
              "<table border=\"1\" class=\"dataframe\">\n",
              "  <thead>\n",
              "    <tr style=\"text-align: right;\">\n",
              "      <th></th>\n",
              "      <th>CountryName</th>\n",
              "      <th>CountryCode</th>\n",
              "      <th>BirthRate</th>\n",
              "      <th>InternetUsers</th>\n",
              "      <th>IncomeGroup</th>\n",
              "      <th>Total</th>\n",
              "    </tr>\n",
              "  </thead>\n",
              "  <tbody>\n",
              "    <tr>\n",
              "      <th>0</th>\n",
              "      <td>Aruba</td>\n",
              "      <td>ABW</td>\n",
              "      <td>10.244</td>\n",
              "      <td>78.9</td>\n",
              "      <td>High income</td>\n",
              "      <td>808.2516</td>\n",
              "    </tr>\n",
              "    <tr>\n",
              "      <th>1</th>\n",
              "      <td>Afghanistan</td>\n",
              "      <td>AFG</td>\n",
              "      <td>35.253</td>\n",
              "      <td>5.9</td>\n",
              "      <td>Low income</td>\n",
              "      <td>207.9927</td>\n",
              "    </tr>\n",
              "    <tr>\n",
              "      <th>2</th>\n",
              "      <td>Angola</td>\n",
              "      <td>AGO</td>\n",
              "      <td>45.985</td>\n",
              "      <td>19.1</td>\n",
              "      <td>Upper middle income</td>\n",
              "      <td>878.3135</td>\n",
              "    </tr>\n",
              "    <tr>\n",
              "      <th>3</th>\n",
              "      <td>Albania</td>\n",
              "      <td>ALB</td>\n",
              "      <td>12.877</td>\n",
              "      <td>57.2</td>\n",
              "      <td>Upper middle income</td>\n",
              "      <td>736.5644</td>\n",
              "    </tr>\n",
              "    <tr>\n",
              "      <th>4</th>\n",
              "      <td>United Arab Emirates</td>\n",
              "      <td>ARE</td>\n",
              "      <td>11.044</td>\n",
              "      <td>88.0</td>\n",
              "      <td>High income</td>\n",
              "      <td>971.8720</td>\n",
              "    </tr>\n",
              "    <tr>\n",
              "      <th>...</th>\n",
              "      <td>...</td>\n",
              "      <td>...</td>\n",
              "      <td>...</td>\n",
              "      <td>...</td>\n",
              "      <td>...</td>\n",
              "      <td>...</td>\n",
              "    </tr>\n",
              "    <tr>\n",
              "      <th>190</th>\n",
              "      <td>Yemen, Rep.</td>\n",
              "      <td>YEM</td>\n",
              "      <td>32.947</td>\n",
              "      <td>20.0</td>\n",
              "      <td>Lower middle income</td>\n",
              "      <td>658.9400</td>\n",
              "    </tr>\n",
              "    <tr>\n",
              "      <th>191</th>\n",
              "      <td>South Africa</td>\n",
              "      <td>ZAF</td>\n",
              "      <td>20.850</td>\n",
              "      <td>46.5</td>\n",
              "      <td>Upper middle income</td>\n",
              "      <td>969.5250</td>\n",
              "    </tr>\n",
              "    <tr>\n",
              "      <th>192</th>\n",
              "      <td>Congo, Dem. Rep.</td>\n",
              "      <td>COD</td>\n",
              "      <td>42.394</td>\n",
              "      <td>2.2</td>\n",
              "      <td>Low income</td>\n",
              "      <td>93.2668</td>\n",
              "    </tr>\n",
              "    <tr>\n",
              "      <th>193</th>\n",
              "      <td>Zambia</td>\n",
              "      <td>ZMB</td>\n",
              "      <td>40.471</td>\n",
              "      <td>15.4</td>\n",
              "      <td>Lower middle income</td>\n",
              "      <td>623.2534</td>\n",
              "    </tr>\n",
              "    <tr>\n",
              "      <th>194</th>\n",
              "      <td>Zimbabwe</td>\n",
              "      <td>ZWE</td>\n",
              "      <td>35.715</td>\n",
              "      <td>18.5</td>\n",
              "      <td>Low income</td>\n",
              "      <td>660.7275</td>\n",
              "    </tr>\n",
              "  </tbody>\n",
              "</table>\n",
              "<p>195 rows × 6 columns</p>\n",
              "</div>"
            ],
            "text/plain": [
              "              CountryName CountryCode  BirthRate  InternetUsers  \\\n",
              "0                   Aruba         ABW     10.244           78.9   \n",
              "1             Afghanistan         AFG     35.253            5.9   \n",
              "2                  Angola         AGO     45.985           19.1   \n",
              "3                 Albania         ALB     12.877           57.2   \n",
              "4    United Arab Emirates         ARE     11.044           88.0   \n",
              "..                    ...         ...        ...            ...   \n",
              "190           Yemen, Rep.         YEM     32.947           20.0   \n",
              "191          South Africa         ZAF     20.850           46.5   \n",
              "192      Congo, Dem. Rep.         COD     42.394            2.2   \n",
              "193                Zambia         ZMB     40.471           15.4   \n",
              "194              Zimbabwe         ZWE     35.715           18.5   \n",
              "\n",
              "             IncomeGroup     Total  \n",
              "0            High income  808.2516  \n",
              "1             Low income  207.9927  \n",
              "2    Upper middle income  878.3135  \n",
              "3    Upper middle income  736.5644  \n",
              "4            High income  971.8720  \n",
              "..                   ...       ...  \n",
              "190  Lower middle income  658.9400  \n",
              "191  Upper middle income  969.5250  \n",
              "192           Low income   93.2668  \n",
              "193  Lower middle income  623.2534  \n",
              "194           Low income  660.7275  \n",
              "\n",
              "[195 rows x 6 columns]"
            ]
          },
          "execution_count": 99,
          "metadata": {},
          "output_type": "execute_result"
        }
      ],
      "source": [
        "#add columns\n",
        "\n",
        "data['Total'] = data.BirthRate * data.InternetUsers\n",
        "data"
      ]
    },
    {
      "cell_type": "markdown",
      "id": "21a6fe51",
      "metadata": {
        "id": "21a6fe51"
      },
      "source": [
        "##Dropping Columns"
      ]
    },
    {
      "cell_type": "code",
      "execution_count": null,
      "id": "72be46af",
      "metadata": {
        "id": "72be46af"
      },
      "outputs": [],
      "source": [
        "data.drop('Total',axis=1, inplace=True)#shift + tab for more info in the function"
      ]
    },
    {
      "cell_type": "markdown",
      "id": "37d290f8",
      "metadata": {
        "id": "37d290f8"
      },
      "source": [
        "##Renaming Columns"
      ]
    },
    {
      "cell_type": "code",
      "execution_count": 13,
      "id": "3411ec97",
      "metadata": {
        "id": "3411ec97"
      },
      "outputs": [],
      "source": [
        "data.columns = ['CountryName', 'CountryCode', 'BirthRate', 'InternetUsers',\n",
        "       'IncomeGroup']"
      ]
    },
    {
      "cell_type": "markdown",
      "id": "53603530",
      "metadata": {
        "id": "53603530"
      },
      "source": [
        "##Conditional Change"
      ]
    },
    {
      "cell_type": "code",
      "execution_count": null,
      "id": "f042deed",
      "metadata": {
        "id": "f042deed"
      },
      "outputs": [],
      "source": [
        "da = data.loc[(data['InternetUsers']>50), ['CountryName']] == \"Garbage\"\n",
        "data[da]"
      ]
    },
    {
      "cell_type": "markdown",
      "source": [
        "##Plotting on Pandas"
      ],
      "metadata": {
        "id": "Ls47sFf-pJ0a"
      },
      "id": "Ls47sFf-pJ0a"
    },
    {
      "cell_type": "code",
      "source": [
        "data.plot.scatter(x='InternetUsers',y='BirthRate')"
      ],
      "metadata": {
        "colab": {
          "base_uri": "https://localhost:8080/",
          "height": 297
        },
        "id": "kGTeb4hqpOhI",
        "outputId": "d09d82d9-44d6-4ffe-81ac-e24021475055"
      },
      "id": "kGTeb4hqpOhI",
      "execution_count": 30,
      "outputs": [
        {
          "output_type": "execute_result",
          "data": {
            "text/plain": [
              "<matplotlib.axes._subplots.AxesSubplot at 0x7f043ef30e50>"
            ]
          },
          "metadata": {},
          "execution_count": 30
        },
        {
          "output_type": "display_data",
          "data": {
            "image/png": "[encoded data removed]",
            "text/plain": [
              "<Figure size 432x288 with 1 Axes>"
            ]
          },
          "metadata": {
            "needs_background": "light"
          }
        }
      ]
    },
    {
      "cell_type": "code",
      "source": [
        "data[['IncomeGroup',  'BirthRate', 'InternetUsers']].sort_values('InternetUsers', ascending=False ).head(100)"
      ],
      "metadata": {
        "colab": {
          "base_uri": "https://localhost:8080/",
          "height": 423
        },
        "id": "2LyUSpSlpvyg",
        "outputId": "8f6ebf31-83b6-4ed7-9cd6-afbb133cd027"
      },
      "id": "2LyUSpSlpvyg",
      "execution_count": 22,
      "outputs": [
        {
          "output_type": "execute_result",
          "data": {
            "text/html": [
              "\n",
              "  <div id=\"df-e27a3466-953d-43b1-84de-f04a55e26203\">\n",
              "    <div class=\"colab-df-container\">\n",
              "      <div>\n",
              "<style scoped>\n",
              "    .dataframe tbody tr th:only-of-type {\n",
              "        vertical-align: middle;\n",
              "    }\n",
              "\n",
              "    .dataframe tbody tr th {\n",
              "        vertical-align: top;\n",
              "    }\n",
              "\n",
              "    .dataframe thead th {\n",
              "        text-align: right;\n",
              "    }\n",
              "</style>\n",
              "<table border=\"1\" class=\"dataframe\">\n",
              "  <thead>\n",
              "    <tr style=\"text-align: right;\">\n",
              "      <th></th>\n",
              "      <th>IncomeGroup</th>\n",
              "      <th>BirthRate</th>\n",
              "      <th>InternetUsers</th>\n",
              "    </tr>\n",
              "  </thead>\n",
              "  <tbody>\n",
              "    <tr>\n",
              "      <th>84</th>\n",
              "      <td>High income</td>\n",
              "      <td>13.400</td>\n",
              "      <td>96.546800</td>\n",
              "    </tr>\n",
              "    <tr>\n",
              "      <th>22</th>\n",
              "      <td>High income</td>\n",
              "      <td>10.400</td>\n",
              "      <td>95.300000</td>\n",
              "    </tr>\n",
              "    <tr>\n",
              "      <th>131</th>\n",
              "      <td>High income</td>\n",
              "      <td>11.600</td>\n",
              "      <td>95.053400</td>\n",
              "    </tr>\n",
              "    <tr>\n",
              "      <th>163</th>\n",
              "      <td>High income</td>\n",
              "      <td>11.800</td>\n",
              "      <td>94.783600</td>\n",
              "    </tr>\n",
              "    <tr>\n",
              "      <th>47</th>\n",
              "      <td>High income</td>\n",
              "      <td>10.000</td>\n",
              "      <td>94.629700</td>\n",
              "    </tr>\n",
              "    <tr>\n",
              "      <th>...</th>\n",
              "      <td>...</td>\n",
              "      <td>...</td>\n",
              "      <td>...</td>\n",
              "    </tr>\n",
              "    <tr>\n",
              "      <th>62</th>\n",
              "      <td>Lower middle income</td>\n",
              "      <td>13.332</td>\n",
              "      <td>43.300000</td>\n",
              "    </tr>\n",
              "    <tr>\n",
              "      <th>6</th>\n",
              "      <td>Lower middle income</td>\n",
              "      <td>13.308</td>\n",
              "      <td>41.900000</td>\n",
              "    </tr>\n",
              "    <tr>\n",
              "      <th>88</th>\n",
              "      <td>Upper middle income</td>\n",
              "      <td>27.046</td>\n",
              "      <td>41.000000</td>\n",
              "    </tr>\n",
              "    <tr>\n",
              "      <th>179</th>\n",
              "      <td>Lower middle income</td>\n",
              "      <td>11.100</td>\n",
              "      <td>41.000000</td>\n",
              "    </tr>\n",
              "    <tr>\n",
              "      <th>50</th>\n",
              "      <td>Upper middle income</td>\n",
              "      <td>21.070</td>\n",
              "      <td>40.353684</td>\n",
              "    </tr>\n",
              "  </tbody>\n",
              "</table>\n",
              "<p>100 rows × 3 columns</p>\n",
              "</div>\n",
              "      <button class=\"colab-df-convert\" onclick=\"convertToInteractive('df-e27a3466-953d-43b1-84de-f04a55e26203')\"\n",
              "              title=\"Convert this dataframe to an interactive table.\"\n",
              "              style=\"display:none;\">\n",
              "        \n",
              "  <svg xmlns=\"http://www.w3.org/2000/svg\" height=\"24px\"viewBox=\"0 0 24 24\"\n",
              "       width=\"24px\">\n",
              "    <path d=\"M0 0h24v24H0V0z\" fill=\"none\"/>\n",
              "    <path d=\"M18.56 5.44l.94 2.06.94-2.06 2.06-.94-2.06-.94-.94-2.06-.94 2.06-2.06.94zm-11 1L8.5 8.5l.94-2.06 2.06-.94-2.06-.94L8.5 2.5l-.94 2.06-2.06.94zm10 10l.94 2.06.94-2.06 2.06-.94-2.06-.94-.94-2.06-.94 2.06-2.06.94z\"/><path d=\"M17.41 7.96l-1.37-1.37c-.4-.4-.92-.59-1.43-.59-.52 0-1.04.2-1.43.59L10.3 9.45l-7.72 7.72c-.78.78-.78 2.05 0 2.83L4 21.41c.39.39.9.59 1.41.59.51 0 1.02-.2 1.41-.59l7.78-7.78 2.81-2.81c.8-.78.8-2.07 0-2.86zM5.41 20L4 18.59l7.72-7.72 1.47 1.35L5.41 20z\"/>\n",
              "  </svg>\n",
              "      </button>\n",
              "      \n",
              "  <style>\n",
              "    .colab-df-container {\n",
              "      display:flex;\n",
              "      flex-wrap:wrap;\n",
              "      gap: 12px;\n",
              "    }\n",
              "\n",
              "    .colab-df-convert {\n",
              "      background-color: #E8F0FE;\n",
              "      border: none;\n",
              "      border-radius: 50%;\n",
              "      cursor: pointer;\n",
              "      display: none;\n",
              "      fill: #1967D2;\n",
              "      height: 32px;\n",
              "      padding: 0 0 0 0;\n",
              "      width: 32px;\n",
              "    }\n",
              "\n",
              "    .colab-df-convert:hover {\n",
              "      background-color: #E2EBFA;\n",
              "      box-shadow: 0px 1px 2px rgba(60, 64, 67, 0.3), 0px 1px 3px 1px rgba(60, 64, 67, 0.15);\n",
              "      fill: #174EA6;\n",
              "    }\n",
              "\n",
              "    [theme=dark] .colab-df-convert {\n",
              "      background-color: #3B4455;\n",
              "      fill: #D2E3FC;\n",
              "    }\n",
              "\n",
              "    [theme=dark] .colab-df-convert:hover {\n",
              "      background-color: #434B5C;\n",
              "      box-shadow: 0px 1px 3px 1px rgba(0, 0, 0, 0.15);\n",
              "      filter: drop-shadow(0px 1px 2px rgba(0, 0, 0, 0.3));\n",
              "      fill: #FFFFFF;\n",
              "    }\n",
              "  </style>\n",
              "\n",
              "      <script>\n",
              "        const buttonEl =\n",
              "          document.querySelector('#df-e27a3466-953d-43b1-84de-f04a55e26203 button.colab-df-convert');\n",
              "        buttonEl.style.display =\n",
              "          google.colab.kernel.accessAllowed ? 'block' : 'none';\n",
              "\n",
              "        async function convertToInteractive(key) {\n",
              "          const element = document.querySelector('#df-e27a3466-953d-43b1-84de-f04a55e26203');\n",
              "          const dataTable =\n",
              "            await google.colab.kernel.invokeFunction('convertToInteractive',\n",
              "                                                     [key], {});\n",
              "          if (!dataTable) return;\n",
              "\n",
              "          const docLinkHtml = 'Like what you see? Visit the ' +\n",
              "            '<a target=\"_blank\" href=https://colab.research.google.com/notebooks/data_table.ipynb>data table notebook</a>'\n",
              "            + ' to learn more about interactive tables.';\n",
              "          element.innerHTML = '';\n",
              "          dataTable['output_type'] = 'display_data';\n",
              "          await google.colab.output.renderOutput(dataTable, element);\n",
              "          const docLink = document.createElement('div');\n",
              "          docLink.innerHTML = docLinkHtml;\n",
              "          element.appendChild(docLink);\n",
              "        }\n",
              "      </script>\n",
              "    </div>\n",
              "  </div>\n",
              "  "
            ],
            "text/plain": [
              "             IncomeGroup  BirthRate  InternetUsers\n",
              "84           High income     13.400      96.546800\n",
              "22           High income     10.400      95.300000\n",
              "131          High income     11.600      95.053400\n",
              "163          High income     11.800      94.783600\n",
              "47           High income     10.000      94.629700\n",
              "..                   ...        ...            ...\n",
              "62   Lower middle income     13.332      43.300000\n",
              "6    Lower middle income     13.308      41.900000\n",
              "88   Upper middle income     27.046      41.000000\n",
              "179  Lower middle income     11.100      41.000000\n",
              "50   Upper middle income     21.070      40.353684\n",
              "\n",
              "[100 rows x 3 columns]"
            ]
          },
          "metadata": {},
          "execution_count": 22
        }
      ]
    },
    {
      "cell_type": "code",
      "source": [
        "data1 = data[(data['BirthRate'] <= 15.00)].sort_values('BirthRate', ascending=False )"
      ],
      "metadata": {
        "id": "WxmGZV0zqOqt"
      },
      "id": "WxmGZV0zqOqt",
      "execution_count": 27,
      "outputs": []
    },
    {
      "cell_type": "code",
      "source": [
        "data1.plot.bar(x='IncomeGroup', y='BirthRate')"
      ],
      "metadata": {
        "colab": {
          "base_uri": "https://localhost:8080/",
          "height": 394
        },
        "id": "1m3T3aUYr0FE",
        "outputId": "680e3bbd-b86d-46a1-87bc-a5f4e40f0ed0"
      },
      "id": "1m3T3aUYr0FE",
      "execution_count": 29,
      "outputs": [
        {
          "output_type": "execute_result",
          "data": {
            "text/plain": [
              "<matplotlib.axes._subplots.AxesSubplot at 0x7f043f19bd10>"
            ]
          },
          "metadata": {},
          "execution_count": 29
        },
        {
          "output_type": "display_data",
          "data": {
            "image/png": "[encoded data removed]",
            "text/plain": [
              "<Figure size 432x288 with 1 Axes>"
            ]
          },
          "metadata": {
            "needs_background": "light"
          }
        }
      ]
    },
    {
      "cell_type": "code",
      "source": [
        ""
      ],
      "metadata": {
        "id": "Vg_mibSSs-yI"
      },
      "id": "Vg_mibSSs-yI",
      "execution_count": null,
      "outputs": []
    }
  ],
  "metadata": {
    "kernelspec": {
      "display_name": "Python 3 (ipykernel)",
      "language": "python",
      "name": "python3"
    },
    "language_info": {
      "codemirror_mode": {
        "name": "ipython",
        "version": 3
      },
      "file_extension": ".py",
      "mimetype": "text/x-python",
      "name": "python",
      "nbconvert_exporter": "python",
      "pygments_lexer": "ipython3",
      "version": "3.9.7"
    },
    "colab": {
      "name": "Pandas_Udemy.ipynb",
      "provenance": [],
      "toc_visible": true,
      "include_colab_link": true
    }
  },
  "nbformat": 4,
  "nbformat_minor": 5
}