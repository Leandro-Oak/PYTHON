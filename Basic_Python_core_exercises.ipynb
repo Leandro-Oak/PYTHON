{
  "nbformat": 4,
  "nbformat_minor": 0,
  "metadata": {
    "colab": {
      "name": "Basic Python core exercises",
      "provenance": [],
      "collapsed_sections": [],
      "mount_file_id": "1rpVhViwP7ANpJ8ZEzOrP0p8F6JxvMm8K",
      "authorship_tag": "ABX9TyM++MgRVpzJDHfLTX2uSHW9",
      "include_colab_link": true
    },
    "kernelspec": {
      "name": "python3",
      "display_name": "Python 3"
    },
    "language_info": {
      "name": "python"
    }
  },
  "cells": [
    {
      "cell_type": "markdown",
      "metadata": {
        "id": "view-in-github",
        "colab_type": "text"
      },
      "source": [
        "<a href=\"https://colab.research.google.com/github/Leandro-Oak/PYTHON/blob/master/Basic_Python_core_exercises.ipynb\" target=\"_parent\"><img src=\"https://colab.research.google.com/assets/colab-badge.svg\" alt=\"Open In Colab\"/></a>"
      ]
    },
    {
      "cell_type": "markdown",
      "metadata": {
        "id": "W0w5Edssdy_X"
      },
      "source": [
        "##Version 1"
      ]
    },
    {
      "cell_type": "markdown",
      "metadata": {
        "id": "Y_POF5nlpRu5"
      },
      "source": [
        "##FizzBuzz"
      ]
    },
    {
      "cell_type": "code",
      "metadata": {
        "id": "syVJXdngpTOR"
      },
      "source": [
        "#The given code solves the FizzBuzz problem and uses the word \"Solo\" and \"Learn\" instead of Fizz and Buzz.\n",
        "#It take a input n and outputs the number from 1 to n\n",
        "#For each multiple of 3, print \"Solo\" instead of the number\n",
        "#For each multiple of 5, prints \"Learn\" instead of the number.\n",
        "#For numbers which are multiples of both 3 and 5, outputs \"SoloLearn\"\n",
        "#You need to change the code to skip the even numbers, so thta logic only applies to odd numbers in the range."
      ],
      "execution_count": null,
      "outputs": []
    },
    {
      "cell_type": "code",
      "metadata": {
        "id": "NARaQSH1qkAo"
      },
      "source": [
        "num =  int(input(\"Insert the number here:\"))\n",
        "\n",
        "def num1(n):\n",
        "  for x in range(1,n):\n",
        "      if x%3 == 0 and x%5 == 0:\n",
        "        print(\"SoloLearn\")\n",
        "      elif x%5 == 0:\n",
        "        print(\"Learn\")\n",
        "      elif x%3 == 0:\n",
        "        print(\"Solo\")\n",
        "      else: \n",
        "        if x%2 !=0:\n",
        "          print(x)\n",
        "\n",
        "#print(num1(num))"
      ],
      "execution_count": null,
      "outputs": []
    },
    {
      "cell_type": "code",
      "metadata": {
        "id": "gJS5k1OSrCTG"
      },
      "source": [
        "#alternative solution \n",
        "n = int(input())\n",
        "\n",
        "for x in range(1, n+1):\n",
        "    if x % 2 != 0:\n",
        "        if x % 3 == 0 and x % 5 == 0:\n",
        "            print(\"SoloLearn\")\n",
        "        \n",
        "        elif x % 3 == 0:\n",
        "            print(\"Solo\")\n",
        "        \n",
        "        elif x % 5 == 0:\n",
        "            print(\"Learn\")\n",
        "        else:\n",
        "            print(x)\n",
        "    else:\n",
        "        continue"
      ],
      "execution_count": null,
      "outputs": []
    },
    {
      "cell_type": "markdown",
      "metadata": {
        "id": "jFzSDNidCu6q"
      },
      "source": [
        "-------------------------------"
      ]
    },
    {
      "cell_type": "markdown",
      "metadata": {
        "id": "fLroP6rzE8f6"
      },
      "source": [
        "##Celsius to Fahrenheit "
      ]
    },
    {
      "cell_type": "code",
      "metadata": {
        "id": "LU_tG1LwCuSb"
      },
      "source": [
        "# Write a function to take the Celsius value as an argument and return the corresponding Fahrenheit value.\n",
        "\n",
        "celsius = int(input(\"Insert the value, in Celsius, here:\"))\n",
        "\n",
        "def ctf(c):\n",
        "  x = 9/5*c+32\n",
        "  return x\n",
        "\n",
        "fahr = ctf(celsius)\n",
        "print(fahr)\n"
      ],
      "execution_count": null,
      "outputs": []
    },
    {
      "cell_type": "markdown",
      "metadata": {
        "id": "yXRS2heae9_c"
      },
      "source": [
        "---------------------------"
      ]
    },
    {
      "cell_type": "markdown",
      "metadata": {
        "id": "KsYDVV6sfAJb"
      },
      "source": [
        "##Character Input"
      ]
    },
    {
      "cell_type": "code",
      "metadata": {
        "id": "q-8gKO9qZ2mE"
      },
      "source": [
        "#Create a program that asks the user to enter their name and their age.\n",
        "#Print out a message addressed to them that tells them the year that they will turn 100 years old.\n",
        "\n",
        "#Extras:\n",
        "\n",
        "#Add on to the previous program by asking the user for another number and \n",
        "#printing out that many copies of the previous message. (Hint: order of operations exists in Python)\n",
        "#Print out that many copies of the previous message on separate lines. (Hint: the string \"\\n is the same as pressing the ENTER button)\"\"\""
      ],
      "execution_count": null,
      "outputs": []
    },
    {
      "cell_type": "code",
      "metadata": {
        "id": "2XusSHYbZ2zJ"
      },
      "source": [
        "from datetime import datetime\n",
        "\n",
        "\n",
        "name = input(\"Insert your name here:\")\n",
        "age = int(input(\"Insert your age here:\"))\n",
        "number = int(input(\"Please add another number:\"))\n",
        "\n",
        "def final(a):\n",
        "  year = datetime.now().year\n",
        "  total = (100 - a) + year\n",
        "  return total\n",
        "\n",
        "when = final(age)\n",
        "#print(name + \", The day you will complete 100 is:\" + str(when))\n",
        "\n",
        "number1 = 1\n",
        "while number1 <= number:\n",
        "  print(\"{}, The day you will complete 100 is: {}\".format(name,when))\n",
        "  number1 = number1 + 1"
      ],
      "execution_count": null,
      "outputs": []
    },
    {
      "cell_type": "markdown",
      "metadata": {
        "id": "Zkl7n4bKk2_y"
      },
      "source": [
        "------------------------------"
      ]
    },
    {
      "cell_type": "markdown",
      "metadata": {
        "id": "1WoHYKo7vtJK"
      },
      "source": [
        "##Odd Or Even"
      ]
    },
    {
      "cell_type": "code",
      "metadata": {
        "id": "EcssFED4DjxW"
      },
      "source": [
        "#Ask the user for a number. Depending on whether the number is even or odd,\n",
        "#print out an appropriate message to the user. Hint: how does an even / odd number react differently when divided by 2?\n",
        "\n",
        "#Extras:\n",
        "\n",
        "#If the number is a multiple of 4, print out a different message.\n"
      ],
      "execution_count": null,
      "outputs": []
    },
    {
      "cell_type": "code",
      "metadata": {
        "id": "qxrhvRubk2Fy"
      },
      "source": [
        "number2 = int(input(\"Insert your number here: \"))\n",
        "\n",
        "def oddeven(x): \n",
        "  if x % 2 == 0:\n",
        "    print(\"This is a even number!\")\n",
        "    if x % 4 == 0:\n",
        "      print(\"And  This number is multiple of 4!\")\n",
        "  elif x % 2 != 0:\n",
        "    print(\"This is odd number!\")\n",
        "    \n",
        "\n",
        "oddeven(number2)\n"
      ],
      "execution_count": null,
      "outputs": []
    },
    {
      "cell_type": "code",
      "metadata": {
        "id": "VCD8EMsMk2JT"
      },
      "source": [
        "#Ask the user for two numbers: one number to check (call it num) and one number to divide by (check).\n",
        "#If check divides evenly into num, tell that to the user. If not, print a different appropriate message.\n",
        "\n",
        "\n",
        "\n",
        "num = int(input(\"Insert the num number here!\"))\n",
        "check = int(input(\"Insert the check number here!\"))\n",
        "\n",
        "def divide(x,y):\n",
        "  if x%y == 0:\n",
        "    print(\"The number divide evenly\")\n",
        "  else:\n",
        "    print(\"The number doens`t divide evenly\")\n",
        "\n",
        "\n",
        "\n",
        "divide(num, check)\n",
        "\n"
      ],
      "execution_count": null,
      "outputs": []
    },
    {
      "cell_type": "markdown",
      "metadata": {
        "id": "wYVC0ZMcKdv0"
      },
      "source": [
        "-----------------------------"
      ]
    },
    {
      "cell_type": "markdown",
      "metadata": {
        "id": "a3R3189eKyQr"
      },
      "source": [
        "##List Less Than Ten"
      ]
    },
    {
      "cell_type": "code",
      "metadata": {
        "id": "N0oViDjNk2Ns"
      },
      "source": [
        "#Take a list, say for example this one:   a = [1, 1, 2, 3, 5, 8, 13, 21, 34, 55, 89]\n",
        "\n",
        "\n",
        "#Extras:\n",
        "\n",
        "#Instead of printing the elements one by one, make a new list that has all the elements less than 5 from this list in it and print out this new list.\n",
        "#Write this in one line of Python.\n"
      ],
      "execution_count": null,
      "outputs": []
    },
    {
      "cell_type": "code",
      "metadata": {
        "id": "bpK3hQk3k2RW",
        "colab": {
          "base_uri": "https://localhost:8080/"
        },
        "outputId": "7fab0fbd-d82f-484a-85b1-f20c21eda111"
      },
      "source": [
        "a = [1, 1, 2, 3, 5, 8, 13, 21, 34, 55, 89]\n",
        "b =  []\n",
        "for i in a:\n",
        "  if i < 5:\n",
        "   b.append(i)\n",
        "\n",
        "print(b)"
      ],
      "execution_count": null,
      "outputs": [
        {
          "output_type": "stream",
          "name": "stdout",
          "text": [
            "[1, 1, 2, 3]\n"
          ]
        }
      ]
    },
    {
      "cell_type": "code",
      "metadata": {
        "id": "YFdLPzvnk2Ut",
        "colab": {
          "base_uri": "https://localhost:8080/"
        },
        "outputId": "4c359994-8fe5-4af5-d91b-0b7d224a0d74"
      },
      "source": [
        "#and write a program that prints out all the elements of the list that are less than 5.\n",
        "\n",
        "a = [1, 1, 2, 3, 5, 8, 13, 21, 34, 55, 89]\n",
        "b =  [x for x in a if x < 5]\n",
        "\n",
        "print(b)"
      ],
      "execution_count": null,
      "outputs": [
        {
          "output_type": "stream",
          "name": "stdout",
          "text": [
            "[1, 1, 2, 3]\n"
          ]
        }
      ]
    },
    {
      "cell_type": "code",
      "metadata": {
        "id": "5Dro-JKNk2ci",
        "colab": {
          "base_uri": "https://localhost:8080/",
          "height": 217
        },
        "outputId": "1fc3b9ef-2be4-4293-9747-e576b1e53a94"
      },
      "source": [
        "#Ask the user for a number and return a list that contains only elements\n",
        "#from the original list a that are smaller than that number given by the user.\n",
        "\n",
        "\n",
        "\n",
        "\n",
        "def lis(g):\n",
        "  a = [1, 1, 2, 3, 5, 8, 13, 21, 34, 55, 89]\n",
        "  g = int(input(\"Insert your number here: \"))\n",
        "  b = [i for i in a if i < g]\n",
        "  return b\n",
        "a = lis(g)\n",
        "print(a)"
      ],
      "execution_count": 83,
      "outputs": [
        {
          "output_type": "error",
          "ename": "NameError",
          "evalue": "ignored",
          "traceback": [
            "\u001b[0;31m---------------------------------------------------------------------------\u001b[0m",
            "\u001b[0;31mNameError\u001b[0m                                 Traceback (most recent call last)",
            "\u001b[0;32m<ipython-input-83-b50932d8c557>\u001b[0m in \u001b[0;36m<module>\u001b[0;34m()\u001b[0m\n\u001b[1;32m     10\u001b[0m   \u001b[0mb\u001b[0m \u001b[0;34m=\u001b[0m \u001b[0;34m[\u001b[0m\u001b[0mi\u001b[0m \u001b[0;32mfor\u001b[0m \u001b[0mi\u001b[0m \u001b[0;32min\u001b[0m \u001b[0ma\u001b[0m \u001b[0;32mif\u001b[0m \u001b[0mi\u001b[0m \u001b[0;34m<\u001b[0m \u001b[0mg\u001b[0m\u001b[0;34m]\u001b[0m\u001b[0;34m\u001b[0m\u001b[0;34m\u001b[0m\u001b[0m\n\u001b[1;32m     11\u001b[0m   \u001b[0;32mreturn\u001b[0m \u001b[0mb\u001b[0m\u001b[0;34m\u001b[0m\u001b[0;34m\u001b[0m\u001b[0m\n\u001b[0;32m---> 12\u001b[0;31m \u001b[0ma\u001b[0m \u001b[0;34m=\u001b[0m \u001b[0mlis\u001b[0m\u001b[0;34m(\u001b[0m\u001b[0mg\u001b[0m\u001b[0;34m)\u001b[0m\u001b[0;34m\u001b[0m\u001b[0;34m\u001b[0m\u001b[0m\n\u001b[0m\u001b[1;32m     13\u001b[0m \u001b[0mprint\u001b[0m\u001b[0;34m(\u001b[0m\u001b[0ma\u001b[0m\u001b[0;34m)\u001b[0m\u001b[0;34m\u001b[0m\u001b[0;34m\u001b[0m\u001b[0m\n",
            "\u001b[0;31mNameError\u001b[0m: name 'g' is not defined"
          ]
        }
      ]
    },
    {
      "cell_type": "markdown",
      "metadata": {
        "id": "_QJ-RErtvSar"
      },
      "source": [
        "-----------"
      ]
    },
    {
      "cell_type": "markdown",
      "metadata": {
        "id": "iM26CgyDvUOU"
      },
      "source": [
        "##Divisors\n"
      ]
    },
    {
      "cell_type": "code",
      "metadata": {
        "id": "BJaHPWwWpmS0",
        "colab": {
          "base_uri": "https://localhost:8080/"
        },
        "outputId": "282db881-5a9a-4c13-e6b8-9d899ba13e60"
      },
      "source": [
        "#Create a program that asks the user for a number and then prints out a list of all the divisors of that number.\n",
        "#(If you don’t know what a divisor is, it is a number that divides evenly into another number.\n",
        "#For example, 13 is a divisor of 26 because 26 / 13 has no remainder.)\n",
        "\n",
        "\n",
        "usernumber = int(input(\"Insert your number here: \"))\n",
        "divisors = []\n",
        "\n",
        "for n in range(1, usernumber+1):\n",
        "  if usernumber % n == 0:\n",
        "    divisors.append(n)\n",
        "    \n",
        "print(divisors)"
      ],
      "execution_count": null,
      "outputs": [
        {
          "output_type": "stream",
          "name": "stdout",
          "text": [
            "Insert your number here: 1000\n",
            "[1, 2, 4, 5, 8, 10, 20, 25, 40, 50, 100, 125, 200, 250, 500, 1000]\n"
          ]
        }
      ]
    },
    {
      "cell_type": "markdown",
      "metadata": {
        "id": "c_xiKwK-pgaG"
      },
      "source": [
        "##List Overlap"
      ]
    },
    {
      "cell_type": "code",
      "metadata": {
        "id": "My4218tbpmVr",
        "colab": {
          "base_uri": "https://localhost:8080/"
        },
        "outputId": "39da72df-33ef-4ecc-e203-e0a0d0047a0a"
      },
      "source": [
        "#Take two lists, and write a program that returns a list that contains only the\n",
        "#elements that are common between the lists (without duplicates).\n",
        "#Make sure your program works on two lists of different sizes.\n",
        "\n",
        "\n",
        "def dif():\n",
        "  a = [1, 1, 2, 3, 5, 8, 13, 21, 34, 55, 89,]\n",
        "  b = [1, 2, 3, 4, 5, 6, 7, 8, 9, 10, 11, 12, 13]\n",
        "  c = []\n",
        "  for i in b:\n",
        "    if i in a:\n",
        "      c.append(i)\n",
        "  return c\n",
        "\n",
        "dif()\n"
      ],
      "execution_count": 11,
      "outputs": [
        {
          "output_type": "execute_result",
          "data": {
            "text/plain": [
              "[1, 2, 3, 5, 8, 13]"
            ]
          },
          "metadata": {},
          "execution_count": 11
        }
      ]
    },
    {
      "cell_type": "code",
      "metadata": {
        "id": "cqIylJ6WpmfP",
        "colab": {
          "base_uri": "https://localhost:8080/"
        },
        "outputId": "524f7ef5-7e25-497c-a068-540e30c6a7d8"
      },
      "source": [
        "#Extras:\n",
        "\n",
        "import random as rd\n",
        "\n",
        "\n",
        "#1 - Randomly generate two lists to test this\n",
        "#2 - Write this in one line of Python \n",
        "\n",
        "a,b,c = [rd.randrange(1, 50) for i in range(10)], [rd.randrange(1, 50) for i in range(10)] , [d for d in a if d in b]\n",
        "#c = [d for d in a if d in b]\n",
        "\n",
        "print(c)\n"
      ],
      "execution_count": 63,
      "outputs": [
        {
          "output_type": "stream",
          "name": "stdout",
          "text": [
            "[5, 43, 8]\n"
          ]
        }
      ]
    },
    {
      "cell_type": "markdown",
      "metadata": {
        "id": "Uu_TMu7F6Rka"
      },
      "source": [
        "##String Lists"
      ]
    },
    {
      "cell_type": "code",
      "metadata": {
        "id": "aVoMW5ujpmi_",
        "colab": {
          "base_uri": "https://localhost:8080/"
        },
        "outputId": "083cc965-76b4-4317-8559-56c90cb5adb7"
      },
      "source": [
        "#Ask the user for a string and print out whether this string is a palindrome or not. \n",
        "#(A palindrome is a string that reads the same forwards and backwards.)\n",
        "\n",
        "\n",
        "def pali(st):\n",
        "    st = input(\"Insert your word here: \")\n",
        "\n",
        "    st1 = st[::-1]\n",
        "\n",
        "    if st == st1:\n",
        "      print(\"It is a palindrome\")\n",
        "    else:\n",
        "      print(\"It is not a palindrome\")\n",
        "    return st1\n",
        "\n",
        "p = pali(st)  \n",
        "print(p)"
      ],
      "execution_count": 80,
      "outputs": [
        {
          "output_type": "stream",
          "name": "stdout",
          "text": [
            "Insert your word here: lll\n",
            "It is a palindrome\n",
            "lll\n"
          ]
        }
      ]
    },
    {
      "cell_type": "markdown",
      "metadata": {
        "id": "gLC9Xc2mDXjn"
      },
      "source": [
        "##List Comprehensions"
      ]
    },
    {
      "cell_type": "code",
      "metadata": {
        "id": "-7HgukvSpmmQ",
        "colab": {
          "base_uri": "https://localhost:8080/"
        },
        "outputId": "092af49b-4163-4734-8e3b-065242fa85d0"
      },
      "source": [
        "#Write one line of Python that takes this list a and makes a new list that has only the even elements of this list in it.\n",
        "\n",
        "\n",
        "a = [1, 4, 9, 16, 25, 36, 49, 64, 81, 100]\n",
        "b= [x for x in a if x%2 == 0]\n",
        "\n",
        "print(b)\n"
      ],
      "execution_count": 84,
      "outputs": [
        {
          "output_type": "stream",
          "name": "stdout",
          "text": [
            "[4, 16, 36, 64, 100]\n"
          ]
        }
      ]
    },
    {
      "cell_type": "markdown",
      "metadata": {
        "id": "c1ENj8MeHnKJ"
      },
      "source": [
        "## Rock Paper Scissors"
      ]
    },
    {
      "cell_type": "code",
      "metadata": {
        "id": "-tCZb6yKpmoK"
      },
      "source": [
        "#Make a two-player Rock-Paper-Scissors game. (Hint: Ask for player plays (using input),\n",
        "#compare them, print out a message of congratulations to the winner, and ask if the players want to start a new game)\n",
        "\n",
        "#Extra\n",
        "#Create a a player that ramdonly chooses the options and play with you\n",
        "\n",
        "#Remember the rules:\n",
        "\n",
        "#Rock beats scissors\n",
        "#Scissors beats paper\n",
        "#Paper beats rock\n",
        "\n",
        "\n",
        "\n",
        "\n",
        "player1 = input(\"Insert your option here Rock-Paper-Scissors\")\n",
        "player2 = input(\"Insert your option here Rock-Paper-Scissors\")\n",
        "\n",
        "\n",
        "\n",
        "\n",
        "\n",
        "\n",
        "\n"
      ],
      "execution_count": null,
      "outputs": []
    },
    {
      "cell_type": "code",
      "metadata": {
        "id": "BMODZMWSpmp6"
      },
      "source": [
        ""
      ],
      "execution_count": null,
      "outputs": []
    },
    {
      "cell_type": "code",
      "metadata": {
        "id": "6Od9wYjApm5B"
      },
      "source": [
        ""
      ],
      "execution_count": null,
      "outputs": []
    }
  ]
}